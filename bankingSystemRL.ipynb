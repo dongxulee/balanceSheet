{
 "cells": [
  {
   "cell_type": "code",
   "execution_count": 2,
   "metadata": {},
   "outputs": [
    {
     "name": "stdout",
     "output_type": "stream",
     "text": [
      "%pylab is deprecated, use %matplotlib inline and import the required libraries.\n",
      "Populating the interactive namespace from numpy and matplotlib\n"
     ]
    }
   ],
   "source": [
    "from bankingSystemRL import * \n",
    "from helperFunctions import *\n",
    "from tqdm import tqdm\n",
    "import matplotlib.pyplot as plt\n",
    "import networkx as nx\n",
    "import warnings \n",
    "warnings.filterwarnings('ignore')\n",
    "%load_ext autoreload\n",
    "%autoreload 2\n",
    "%pylab inline \n",
    "import torch\n",
    "import torch.nn as nn\n",
    "\n",
    "# Define the policy function as a PyTorch model\n",
    "class PolicyFunction(nn.Module):\n",
    "  def __init__(self, input_size, hidden_size, output_size):\n",
    "    super(PolicyFunction, self).__init__()\n",
    "    self.fc1 = nn.Linear(input_size, hidden_size)\n",
    "    self.fc1.weight.data.fill_(0.)\n",
    "    self.fc1.bias.data.fill_(0.)\n",
    "    self.fc2 = nn.Linear(hidden_size, output_size)\n",
    "    self.fc2.weight.data.fill_(0.)\n",
    "    self.fc2.bias.data.fill_(0.)\n",
    "    \n",
    "    \n",
    "  \n",
    "  def forward(self, x):\n",
    "    x = self.fc1(x)\n",
    "    x = torch.relu(x)\n",
    "    x = self.fc2(x)\n",
    "    x = torch.sigmoid(x)\n",
    "    return x\n",
    "\n",
    "policy = PolicyFunction(6, 20, 1)\n",
    "# mean = policy(torch.tensor([0.0000, 0.0000, 0.0703, 0.0000, 0.0000, 0.0703], dtype=torch.float))\n",
    "# dist = torch.distributions.Normal(mean, 0.01)\n",
    "# a = dist.sample()\n",
    "# like = dist.log_prob(a)\n",
    "# a.item()\n"
   ]
  },
  {
   "cell_type": "code",
   "execution_count": 2,
   "metadata": {},
   "outputs": [],
   "source": [
    "modele = pd.read_csv(\"balanceSheetAnalysis/banksData_2022.csv\")[\"equity\"][:100].values.reshape(-1,1)\n",
    "def R_tau(model):\n",
    "    value = (model.e - modele)/modele\n",
    "    return value.flatten()"
   ]
  },
  {
   "cell_type": "code",
   "execution_count": 14,
   "metadata": {},
   "outputs": [
    {
     "name": "stderr",
     "output_type": "stream",
     "text": [
      "  0%|          | 0/500 [00:00<?, ?it/s]"
     ]
    },
    {
     "name": "stdout",
     "output_type": "stream",
     "text": [
      "0\n"
     ]
    },
    {
     "name": "stderr",
     "output_type": "stream",
     "text": [
      "100%|██████████| 500/500 [04:48<00:00,  1.73it/s]\n",
      "  0%|          | 0/500 [00:00<?, ?it/s]"
     ]
    },
    {
     "name": "stdout",
     "output_type": "stream",
     "text": [
      "99\n"
     ]
    },
    {
     "name": "stderr",
     "output_type": "stream",
     "text": [
      "100%|██████████| 500/500 [05:33<00:00,  1.50it/s]\n"
     ]
    }
   ],
   "source": [
    "Rewards = []\n",
    "# simulation and data collection\n",
    "simulationSteps = 500\n",
    "gradientSteps = 100\n",
    "optimizer = torch.optim.Adam(policy.parameters(), lr=0.01)\n",
    "\n",
    "for sim in [0,99]:\n",
    "    print(sim)\n",
    "    policy.load_state_dict(torch.load('models/model' + str(sim) + '.pt'))\n",
    "    model = bankingSystem(banksFile=\"balanceSheetAnalysis/banksData_2022.csv\", # csv file used to initialize the bank agents\n",
    "                        leverageRatio = 11.0,                                     # leverage ratio upper bound for all banks\n",
    "                        capitalReserve = 0.0,                                     # capital reserve as a ratio of portfolio value\n",
    "                        num_borrowing= 20,                                        # number of borrowing request per bank per step\n",
    "                        sizeOfBorrowing = 1,                                      # size of borrowing as a ratio of equity capital\n",
    "                        num_banks=100,                                            # number of banks in the system \n",
    "                        alpha = 0.5,                                              # portfolio recovery rate                           \n",
    "                        beta = 0.9,                                               # interbank loan recovery rate\n",
    "                        fedRate = 0.04/252,                                       # interest rate on borrowing   \n",
    "                        portfolioReturnRate = 0.03/252,                                  # return rate on portfolio\n",
    "                        liquidityShockNum = 2,                                    # number of liquidity shocks per step      \n",
    "                        shockSize = 0.1,                                           # size of the shock\n",
    "                        shockDuration =  [simulationSteps // 10 * 6, simulationSteps // 10 * 7], # duration of the shock\n",
    "                        policy = policy)                                                    # policy function weights\n",
    "                        \n",
    "    #model.datacollector.collect(model)\n",
    "    for i in tqdm(range(simulationSteps)):\n",
    "        model.simulate()\n",
    "    #agent_data = model.datacollector.get_agent_vars_dataframe()\n",
    "    #model_data = model.datacollector.get_model_vars_dataframe()\n",
    "\n",
    "    # policy.zero_grad()\n",
    "    reward = R_tau(model)\n",
    "    # loss = 0\n",
    "    # for i in range(len(reward)):\n",
    "    #     loss -= reward[i] * model.schedule.agents[i].log_probs\n",
    "    # loss.backward()\n",
    "    # optimizer.step()\n",
    "    #torch.save(policy.state_dict(), 'models/model' + str(sim) + '.pt')\n",
    "    Rewards.append(reward)\n",
    "np.save(\"Rewards\", Rewards)"
   ]
  },
  {
   "cell_type": "code",
   "execution_count": 3,
   "metadata": {},
   "outputs": [],
   "source": [
    "Rewards = np.load(\"Rewards.npy\")"
   ]
  },
  {
   "cell_type": "code",
   "execution_count": 4,
   "metadata": {},
   "outputs": [
    {
     "data": {
      "text/plain": [
       "<matplotlib.legend.Legend at 0x7fabc04922b0>"
      ]
     },
     "execution_count": 4,
     "metadata": {},
     "output_type": "execute_result"
    },
    {
     "data": {
      "image/png": "[encoded data removed]",
      "text/plain": [
       "<Figure size 640x480 with 1 Axes>"
      ]
     },
     "metadata": {},
     "output_type": "display_data"
    }
   ],
   "source": [
    "plt.title(\"Total Rewards plot\")\n",
    "plt.bar(range(100),Rewards[0], label=\"baseModel\")\n",
    "plt.bar(range(100),Rewards[99], label=\"learnedModel\")\n",
    "plt.legend()"
   ]
  }
 ],
 "metadata": {
  "kernelspec": {
   "display_name": "base",
   "language": "python",
   "name": "python3"
  },
  "language_info": {
   "codemirror_mode": {
    "name": "ipython",
    "version": 3
   },
   "file_extension": ".py",
   "mimetype": "text/x-python",
   "name": "python",
   "nbconvert_exporter": "python",
   "pygments_lexer": "ipython3",
   "version": "3.8.8 (default, Apr 13 2021, 19:58:26) \n[GCC 7.3.0]"
  },
  "orig_nbformat": 4,
  "vscode": {
   "interpreter": {
    "hash": "032c7fdc51ab15a7798451a31a40447e5e1daf5e19bcdc3321b815dde5b34a39"
   }
  }
 },
 "nbformat": 4,
 "nbformat_minor": 2
}
