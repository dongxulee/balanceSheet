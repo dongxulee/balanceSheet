{
 "cells": [
  {
   "cell_type": "code",
   "execution_count": 11,
   "metadata": {},
   "outputs": [
    {
     "name": "stdout",
     "output_type": "stream",
     "text": [
      "The autoreload extension is already loaded. To reload it, use:\n",
      "  %reload_ext autoreload\n",
      "Populating the interactive namespace from numpy and matplotlib\n"
     ]
    }
   ],
   "source": [
    "from bankingSystem import * \n",
    "from helperFunctions import *\n",
    "from tqdm import tqdm\n",
    "import matplotlib.pyplot as plt\n",
    "import seaborn as sns\n",
    "import networkx as nx\n",
    "import warnings \n",
    "import multiprocessing\n",
    "warnings.filterwarnings('ignore')\n",
    "%load_ext autoreload\n",
    "%autoreload 2\n",
    "%pylab inline \n",
    "pylab.rcParams['figure.figsize'] = (20, 10)\n",
    "pylab.rcParams['font.size'] = 20"
   ]
  },
  {
   "attachments": {},
   "cell_type": "markdown",
   "metadata": {},
   "source": [
    "### model with the exogeous shock"
   ]
  },
  {
   "cell_type": "code",
   "execution_count": 5,
   "metadata": {},
   "outputs": [],
   "source": [
    "def run(iRun):\n",
    "    np.random.seed(iRun)\n",
    "    # simulation and data collection\n",
    "    simulationSteps = 500\n",
    "    cMatrix = np.ones((100,100))*0.8\n",
    "    np.fill_diagonal(cMatrix, 1)\n",
    "    model = bankingSystem(banksFile=\"balanceSheetAnalysis/banksData_2022.csv\", # csv file used to initialize the bank agents\n",
    "                    leverageRatio = 20.0,                                     # leverage ratio upper bound for all banks\n",
    "                    depositReserve = 0.2,                                     # capital reserve as a ratio of portfolio value\n",
    "                    num_borrowing= 10,                                        # number of borrowing request per bank per step\n",
    "                    sizeOfBorrowing = 1.0,                                      # size of borrowing as a ratio of equity capital\n",
    "                    num_banks=100,                                            # number of banks in the system \n",
    "                    alpha = 0.5,                                              # portfolio recovery rate                           \n",
    "                    beta = 0.9,                                               # interbank loan recovery rate\n",
    "                    fedRate = 0.04,                                            # interest rate on borrowing   \n",
    "                    portfolioReturnRate = 0.10,          \n",
    "                    # return rate on portfolio\n",
    "                    returnVolatiliy = 0.18,\n",
    "                    returnCorrelation = cMatrix,\n",
    "                    liquidityShockNum = 10,                                    # number of liquidity shocks per step      \n",
    "                    shockSize = 0.02,                                          # size of the shock\n",
    "                    shockDuration = [300, 305]) # duration of the shock\n",
    "                    \n",
    "    model.datacollector.collect(model)\n",
    "    for _ in range(simulationSteps):\n",
    "        model.simulate()\n",
    "        \n",
    "    agent_data = model.datacollector.get_agent_vars_dataframe()\n",
    "    model_data = model.datacollector.get_model_vars_dataframe()\n",
    "    return model_data, agent_data\n",
    "\n",
    "def multiRun(numberOfruns):\n",
    "    # running the simulation in parallel\n",
    "    cpuNum = 48\n",
    "    results = []\n",
    "    batchNum = 0\n",
    "    while numberOfruns > 0:\n",
    "        if numberOfruns > cpuNum:\n",
    "            numberOfruns = numberOfruns - cpuNum\n",
    "            with multiprocessing.Pool() as pool:\n",
    "                # run the function in parallel on the input values\n",
    "                results = results + pool.map(run, range(batchNum*cpuNum, (batchNum+1)*cpuNum))\n",
    "            batchNum = batchNum + 1\n",
    "        else:\n",
    "            with multiprocessing.Pool() as pool:\n",
    "                results = results + pool.map(run, range(batchNum*cpuNum, batchNum*cpuNum + numberOfruns))\n",
    "            numberOfruns = 0\n",
    "    return results"
   ]
  },
  {
   "cell_type": "code",
   "execution_count": null,
   "metadata": {},
   "outputs": [],
   "source": []
  },
  {
   "cell_type": "code",
   "execution_count": 6,
   "metadata": {},
   "outputs": [],
   "source": [
    "def defaultNumber(results):\n",
    "    defaultCollection = []\n",
    "    for iter in range(len(results)):\n",
    "        m, a = results[iter]\n",
    "        defaultCollection.append(a.xs(500, level=\"Step\")[\"Default\"].sum())\n",
    "    return defaultCollection\n",
    "defaultCollection = []"
   ]
  },
  {
   "cell_type": "code",
   "execution_count": 7,
   "metadata": {},
   "outputs": [],
   "source": [
    "defaultCollection.append(defaultNumber(multiRun(500)))"
   ]
  },
  {
   "cell_type": "code",
   "execution_count": 8,
   "metadata": {},
   "outputs": [],
   "source": [
    "def run(iRun):\n",
    "    np.random.seed(iRun)\n",
    "    # simulation and data collection\n",
    "    simulationSteps = 500\n",
    "    cMatrix = np.ones((100,100))*0.8\n",
    "    np.fill_diagonal(cMatrix, 1)\n",
    "    model = bankingSystem(banksFile=\"balanceSheetAnalysis/banksData_2022.csv\", # csv file used to initialize the bank agents\n",
    "                    leverageRatio = 20.0,                                     # leverage ratio upper bound for all banks\n",
    "                    depositReserve = 0.4,                                     # capital reserve as a ratio of portfolio value\n",
    "                    num_borrowing= 10,                                        # number of borrowing request per bank per step\n",
    "                    sizeOfBorrowing = 1.0,                                      # size of borrowing as a ratio of equity capital\n",
    "                    num_banks=100,                                            # number of banks in the system \n",
    "                    alpha = 0.5,                                              # portfolio recovery rate                           \n",
    "                    beta = 0.9,                                               # interbank loan recovery rate\n",
    "                    fedRate = 0.04,                                            # interest rate on borrowing   \n",
    "                    portfolioReturnRate = 0.10,          \n",
    "                    # return rate on portfolio\n",
    "                    returnVolatiliy = 0.18,\n",
    "                    returnCorrelation = cMatrix,\n",
    "                    liquidityShockNum = 10,                                    # number of liquidity shocks per step      \n",
    "                    shockSize = 0.05,                                          # size of the shock\n",
    "                    shockDuration = [300, 310]) # duration of the shock\n",
    "                    \n",
    "    model.datacollector.collect(model)\n",
    "    for _ in range(simulationSteps):\n",
    "        model.simulate()\n",
    "        \n",
    "    agent_data = model.datacollector.get_agent_vars_dataframe()\n",
    "    model_data = model.datacollector.get_model_vars_dataframe()\n",
    "    return model_data, agent_data\n",
    "\n",
    "def multiRun(numberOfruns):\n",
    "    # running the simulation in parallel\n",
    "    cpuNum = 48\n",
    "    results = []\n",
    "    batchNum = 0\n",
    "    while numberOfruns > 0:\n",
    "        if numberOfruns > cpuNum:\n",
    "            numberOfruns = numberOfruns - cpuNum\n",
    "            with multiprocessing.Pool() as pool:\n",
    "                # run the function in parallel on the input values\n",
    "                results = results + pool.map(run, range(batchNum*cpuNum, (batchNum+1)*cpuNum))\n",
    "            batchNum = batchNum + 1\n",
    "        else:\n",
    "            with multiprocessing.Pool() as pool:\n",
    "                results = results + pool.map(run, range(batchNum*cpuNum, batchNum*cpuNum + numberOfruns))\n",
    "            numberOfruns = 0\n",
    "    return results"
   ]
  },
  {
   "cell_type": "code",
   "execution_count": 9,
   "metadata": {},
   "outputs": [
    {
     "name": "stderr",
     "output_type": "stream",
     "text": [
      "Exception ignored in: <function _releaseLock at 0x7fb7265d48b0>\n",
      "Traceback (most recent call last):\n",
      "  File \"/home/dli36/anaconda3/lib/python3.9/logging/__init__.py\", line 227, in _releaseLock\n",
      "    def _releaseLock():\n",
      "KeyboardInterrupt: \n"
     ]
    }
   ],
   "source": [
    "defaultCollection.append(defaultNumber(multiRun(500)))"
   ]
  },
  {
   "cell_type": "code",
   "execution_count": null,
   "metadata": {},
   "outputs": [],
   "source": [
    "def run(iRun):\n",
    "    np.random.seed(iRun)\n",
    "    # simulation and data collection\n",
    "    simulationSteps = 500\n",
    "    cMatrix = np.ones((100,100))*0.8\n",
    "    np.fill_diagonal(cMatrix, 1)\n",
    "    model = bankingSystem(banksFile=\"balanceSheetAnalysis/banksData_2022.csv\", # csv file used to initialize the bank agents\n",
    "                    leverageRatio = 15.0,                                     # leverage ratio upper bound for all banks\n",
    "                    depositReserve = 0.2,                                     # capital reserve as a ratio of portfolio value\n",
    "                    num_borrowing= 10,                                        # number of borrowing request per bank per step\n",
    "                    sizeOfBorrowing = 1.0,                                      # size of borrowing as a ratio of equity capital\n",
    "                    num_banks=100,                                            # number of banks in the system \n",
    "                    alpha = 0.5,                                              # portfolio recovery rate                           \n",
    "                    beta = 0.9,                                               # interbank loan recovery rate\n",
    "                    fedRate = 0.04,                                            # interest rate on borrowing   \n",
    "                    portfolioReturnRate = 0.10,          \n",
    "                    # return rate on portfolio\n",
    "                    returnVolatiliy = 0.18,\n",
    "                    returnCorrelation = cMatrix,\n",
    "                    liquidityShockNum = 10,                                    # number of liquidity shocks per step      \n",
    "                    shockSize = 0.05,                                          # size of the shock\n",
    "                    shockDuration = [300, 310]) # duration of the shock\n",
    "                    \n",
    "    model.datacollector.collect(model)\n",
    "    for _ in range(simulationSteps):\n",
    "        model.simulate()\n",
    "        \n",
    "    agent_data = model.datacollector.get_agent_vars_dataframe()\n",
    "    model_data = model.datacollector.get_model_vars_dataframe()\n",
    "    return model_data, agent_data\n",
    "\n",
    "def multiRun(numberOfruns):\n",
    "    # running the simulation in parallel\n",
    "    cpuNum = 48\n",
    "    results = []\n",
    "    batchNum = 0\n",
    "    while numberOfruns > 0:\n",
    "        if numberOfruns > cpuNum:\n",
    "            numberOfruns = numberOfruns - cpuNum\n",
    "            with multiprocessing.Pool() as pool:\n",
    "                # run the function in parallel on the input values\n",
    "                results = results + pool.map(run, range(batchNum*cpuNum, (batchNum+1)*cpuNum))\n",
    "            batchNum = batchNum + 1\n",
    "        else:\n",
    "            with multiprocessing.Pool() as pool:\n",
    "                results = results + pool.map(run, range(batchNum*cpuNum, batchNum*cpuNum + numberOfruns))\n",
    "            numberOfruns = 0\n",
    "    return results"
   ]
  },
  {
   "cell_type": "code",
   "execution_count": null,
   "metadata": {},
   "outputs": [],
   "source": [
    "defaultCollection.append(defaultNumber(multiRun(500)))"
   ]
  },
  {
   "cell_type": "code",
   "execution_count": null,
   "metadata": {},
   "outputs": [],
   "source": [
    "def run(iRun):\n",
    "    np.random.seed(iRun)\n",
    "    # simulation and data collection\n",
    "    simulationSteps = 500\n",
    "    cMatrix = np.ones((100,100))*0.4\n",
    "    np.fill_diagonal(cMatrix, 1)\n",
    "    model = bankingSystem(banksFile=\"balanceSheetAnalysis/banksData_2022.csv\", # csv file used to initialize the bank agents\n",
    "                    leverageRatio = 20.0,                                     # leverage ratio upper bound for all banks\n",
    "                    depositReserve = 0.2,                                     # capital reserve as a ratio of portfolio value\n",
    "                    num_borrowing= 10,                                        # number of borrowing request per bank per step\n",
    "                    sizeOfBorrowing = 1.0,                                      # size of borrowing as a ratio of equity capital\n",
    "                    num_banks=100,                                            # number of banks in the system \n",
    "                    alpha = 0.5,                                              # portfolio recovery rate                           \n",
    "                    beta = 0.9,                                               # interbank loan recovery rate\n",
    "                    fedRate = 0.04,                                            # interest rate on borrowing   \n",
    "                    portfolioReturnRate = 0.10,          \n",
    "                    # return rate on portfolio\n",
    "                    returnVolatiliy = 0.18,\n",
    "                    returnCorrelation = cMatrix,\n",
    "                    liquidityShockNum = 10,                                    # number of liquidity shocks per step      \n",
    "                    shockSize = 0.05,                                          # size of the shock\n",
    "                    shockDuration = [300, 310])\n",
    "    model.datacollector.collect(model)\n",
    "    for _ in range(simulationSteps):\n",
    "        model.simulate()\n",
    "        \n",
    "    agent_data = model.datacollector.get_agent_vars_dataframe()\n",
    "    model_data = model.datacollector.get_model_vars_dataframe()\n",
    "    return model_data, agent_data\n",
    "\n",
    "def multiRun(numberOfruns):\n",
    "    # running the simulation in parallel\n",
    "    cpuNum = 48\n",
    "    results = []\n",
    "    batchNum = 0\n",
    "    while numberOfruns > 0:\n",
    "        if numberOfruns > cpuNum:\n",
    "            numberOfruns = numberOfruns - cpuNum\n",
    "            with multiprocessing.Pool() as pool:\n",
    "                # run the function in parallel on the input values\n",
    "                results = results + pool.map(run, range(batchNum*cpuNum, (batchNum+1)*cpuNum))\n",
    "            batchNum = batchNum + 1\n",
    "        else:\n",
    "            with multiprocessing.Pool() as pool:\n",
    "                results = results + pool.map(run, range(batchNum*cpuNum, batchNum*cpuNum + numberOfruns))\n",
    "            numberOfruns = 0\n",
    "    return results\n"
   ]
  },
  {
   "cell_type": "code",
   "execution_count": null,
   "metadata": {},
   "outputs": [],
   "source": [
    "defaultCollection.append(defaultNumber(multiRun(500)))"
   ]
  },
  {
   "cell_type": "code",
   "execution_count": 1,
   "metadata": {},
   "outputs": [
    {
     "name": "stdout",
     "output_type": "stream",
     "text": [
      "\\begin{tabular}{lrrrr}\n",
      "\\toprule\n",
      "{} &         base &  highCapitalReserve &  lowLevarage &  lowCorrelation \\\\\n",
      "\\midrule\n",
      "count &  1000.000000 &         1000.000000 &  1000.000000 &      1000.00000 \\\\\n",
      "mean  &    19.020000 &           13.390000 &    13.155000 &        18.28600 \\\\\n",
      "std   &    23.673826 &           18.717057 &    18.765903 &        14.53339 \\\\\n",
      "min   &     0.000000 &            0.000000 &     0.000000 &         0.00000 \\\\\n",
      "25\\%   &     1.000000 &            1.000000 &     1.000000 &         7.00000 \\\\\n",
      "50\\%   &     9.000000 &            5.000000 &     4.000000 &        15.00000 \\\\\n",
      "75\\%   &    28.000000 &           18.000000 &    19.000000 &        26.00000 \\\\\n",
      "max   &   100.000000 &           97.000000 &    98.000000 &        76.00000 \\\\\n",
      "\\bottomrule\n",
      "\\end{tabular}\n",
      "\n"
     ]
    },
    {
     "name": "stderr",
     "output_type": "stream",
     "text": [
      "/tmp/ipykernel_706176/1944975372.py:5: FutureWarning: In future versions `DataFrame.to_latex` is expected to utilise the base implementation of `Styler.to_latex` for formatting and rendering. The arguments signature may therefore change. It is recommended instead to use `DataFrame.style.to_latex` which also contains additional functionality.\n",
      "  print(pd.DataFrame(data = defaultCollection.T, columns = label).describe().to_latex())\n"
     ]
    }
   ],
   "source": [
    "import numpy as np\n",
    "import pandas as pd\n",
    "label = [\"base\", \"highCapitalReserve\", \"lowLevarage\", \"lowCorrelation\"]\n",
    "defaultCollection = np.load(\"defaultCollection.npy\")\n",
    "print(pd.DataFrame(data = defaultCollection.T, columns = label).describe().to_latex())"
   ]
  },
  {
   "cell_type": "code",
   "execution_count": 6,
   "metadata": {},
   "outputs": [
    {
     "name": "stdout",
     "output_type": "stream",
     "text": [
      "Populating the interactive namespace from numpy and matplotlib\n"
     ]
    },
    {
     "data": {
      "text/plain": [
       "<matplotlib.legend.Legend at 0x7f659363db20>"
      ]
     },
     "execution_count": 6,
     "metadata": {},
     "output_type": "execute_result"
    },
    {
     "data": {
      "image/png": "[encoded data removed]",
      "text/plain": [
       "<Figure size 2500x500 with 3 Axes>"
      ]
     },
     "metadata": {},
     "output_type": "display_data"
    }
   ],
   "source": [
    "%pylab inline\n",
    "import matplotlib.pyplot as plt\n",
    "# create a 2 by 2 plot\n",
    "pylab.rcParams['font.size'] = 20\n",
    "fig, axs = plt.subplots(1, 3, figsize=(25,5))\n",
    "fig.suptitle('Frequency of Certain Number of Defaults over 1000 Runs')\n",
    "axs[0].hist([defaultCollection[0], defaultCollection[1]], bins = 10,label = [\"base\", \"highReserve\"],alpha=0.7)\n",
    "axs[0].set_ylabel(\"Frequency\")\n",
    "axs[0].legend()\n",
    "axs[1].hist([defaultCollection[0],defaultCollection[2]], bins = 10,label = [\"base\", \"lowLeverage\"], alpha=0.7)\n",
    "axs[1].set_xlabel(\"Number of Defaults\")\n",
    "axs[1].legend()\n",
    "axs[2].hist([defaultCollection[0],defaultCollection[3]], bins = 10,label = [\"base\", \"lowCorrelation\"], alpha=0.7)\n",
    "axs[2].legend()"
   ]
  },
  {
   "cell_type": "code",
   "execution_count": null,
   "metadata": {},
   "outputs": [],
   "source": []
  },
  {
   "cell_type": "code",
   "execution_count": null,
   "metadata": {},
   "outputs": [],
   "source": []
  },
  {
   "cell_type": "code",
   "execution_count": null,
   "metadata": {},
   "outputs": [],
   "source": []
  },
  {
   "cell_type": "code",
   "execution_count": null,
   "metadata": {},
   "outputs": [],
   "source": []
  },
  {
   "cell_type": "code",
   "execution_count": null,
   "metadata": {},
   "outputs": [],
   "source": []
  },
  {
   "cell_type": "code",
   "execution_count": null,
   "metadata": {},
   "outputs": [],
   "source": []
  },
  {
   "cell_type": "code",
   "execution_count": null,
   "metadata": {},
   "outputs": [],
   "source": []
  },
  {
   "cell_type": "code",
   "execution_count": null,
   "metadata": {},
   "outputs": [],
   "source": []
  },
  {
   "cell_type": "code",
   "execution_count": null,
   "metadata": {},
   "outputs": [],
   "source": []
  },
  {
   "cell_type": "code",
   "execution_count": null,
   "metadata": {},
   "outputs": [],
   "source": []
  },
  {
   "cell_type": "code",
   "execution_count": null,
   "metadata": {},
   "outputs": [],
   "source": []
  },
  {
   "cell_type": "code",
   "execution_count": null,
   "metadata": {},
   "outputs": [],
   "source": []
  },
  {
   "cell_type": "code",
   "execution_count": null,
   "metadata": {},
   "outputs": [],
   "source": []
  },
  {
   "cell_type": "code",
   "execution_count": null,
   "metadata": {},
   "outputs": [],
   "source": []
  },
  {
   "cell_type": "code",
   "execution_count": null,
   "metadata": {},
   "outputs": [],
   "source": []
  }
 ],
 "metadata": {
  "kernelspec": {
   "display_name": "base",
   "language": "python",
   "name": "python3"
  },
  "language_info": {
   "codemirror_mode": {
    "name": "ipython",
    "version": 3
   },
   "file_extension": ".py",
   "mimetype": "text/x-python",
   "name": "python",
   "nbconvert_exporter": "python",
   "pygments_lexer": "ipython3",
   "version": "3.9.13"
  },
  "orig_nbformat": 4,
  "vscode": {
   "interpreter": {
    "hash": "032c7fdc51ab15a7798451a31a40447e5e1daf5e19bcdc3321b815dde5b34a39"
   }
  }
 },
 "nbformat": 4,
 "nbformat_minor": 2
}
